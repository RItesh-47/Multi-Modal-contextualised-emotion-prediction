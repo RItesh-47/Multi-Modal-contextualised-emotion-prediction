{
 "cells": [
  {
   "cell_type": "code",
   "execution_count": 34,
   "id": "f3d88e86-5c8f-4b5d-b57b-5113cf4cdb2d",
   "metadata": {},
   "outputs": [
    {
     "name": "stdout",
     "output_type": "stream",
     "text": [
      "convin_stashfin.pkl  \u001b[0m\u001b[01;34mgenerality_predictions\u001b[0m/  \u001b[01;34mlm_predictions\u001b[0m/\n"
     ]
    }
   ],
   "source": [
    "%ls"
   ]
  },
  {
   "cell_type": "code",
   "execution_count": 2,
   "id": "4a5749d8-4255-4b27-b072-b374ccf0b497",
   "metadata": {},
   "outputs": [
    {
     "name": "stdout",
     "output_type": "stream",
     "text": [
      "/DATA1/divyaksh\n"
     ]
    },
    {
     "name": "stderr",
     "output_type": "stream",
     "text": [
      "/home/ritesh/.local/lib/python3.10/site-packages/IPython/core/magics/osm.py:417: UserWarning: This is now an optional IPython functionality, setting dhist requires you to install the `pickleshare` library.\n",
      "  self.shell.db['dhist'] = compress_dhist(dhist)[-100:]\n"
     ]
    }
   ],
   "source": [
    "%cd divyaksh"
   ]
  },
  {
   "cell_type": "code",
   "execution_count": 35,
   "id": "cc31bcdc-cd5e-4eef-b8d3-3b10afca5a13",
   "metadata": {},
   "outputs": [
    {
     "name": "stdout",
     "output_type": "stream",
     "text": [
      "convin_stashfin.pkl  \u001b[0m\u001b[01;34mgenerality_predictions\u001b[0m/  \u001b[01;34mlm_predictions\u001b[0m/\n"
     ]
    }
   ],
   "source": [
    "%ls"
   ]
  },
  {
   "cell_type": "code",
   "execution_count": 36,
   "id": "1ba5d8f8-0254-4dc4-8e15-d8e976b2e524",
   "metadata": {},
   "outputs": [],
   "source": [
    "import pandas as pd"
   ]
  },
  {
   "cell_type": "code",
   "execution_count": 37,
   "id": "89c4a33a-7933-41fd-900c-93343689a6c9",
   "metadata": {},
   "outputs": [],
   "source": [
    "df = pd.read_pickle('convin_stashfin.pkl')"
   ]
  },
  {
   "cell_type": "code",
   "execution_count": 38,
   "id": "34df84a8-85cb-4023-b8fb-303c3c7b2fa9",
   "metadata": {},
   "outputs": [
    {
     "data": {
      "text/plain": [
       "Index(['domain', 'utterance_file', 'domain_batch', 'context_file', 'emotion',\n",
       "       'fine-grained-emotion', 'text_embedding', 'audio_embedding',\n",
       "       'machine_transcript', 'roman_transcript', 'native_transcript'],\n",
       "      dtype='object')"
      ]
     },
     "execution_count": 38,
     "metadata": {},
     "output_type": "execute_result"
    }
   ],
   "source": [
    "df.columns"
   ]
  },
  {
   "cell_type": "code",
   "execution_count": 39,
   "id": "af145a05-52af-4669-a235-626899964042",
   "metadata": {},
   "outputs": [
    {
     "data": {
      "text/plain": [
       "(260, 11)"
      ]
     },
     "execution_count": 39,
     "metadata": {},
     "output_type": "execute_result"
    }
   ],
   "source": [
    "df.shape"
   ]
  },
  {
   "cell_type": "code",
   "execution_count": 40,
   "id": "c37823e6-abc9-42dd-a931-d9b8878f5c82",
   "metadata": {},
   "outputs": [
    {
     "data": {
      "text/plain": [
       "domain                  object\n",
       "utterance_file          object\n",
       "domain_batch            object\n",
       "context_file            object\n",
       "emotion                 object\n",
       "fine-grained-emotion    object\n",
       "text_embedding          object\n",
       "audio_embedding         object\n",
       "machine_transcript      object\n",
       "roman_transcript        object\n",
       "native_transcript       object\n",
       "dtype: object"
      ]
     },
     "execution_count": 40,
     "metadata": {},
     "output_type": "execute_result"
    }
   ],
   "source": [
    "df.dtypes"
   ]
  },
  {
   "cell_type": "code",
   "execution_count": 41,
   "id": "d5a4dda7-9239-42ae-8ff9-349228d9642c",
   "metadata": {},
   "outputs": [
    {
     "data": {
      "text/plain": [
       "emotion\n",
       "Negative    134\n",
       "Neutral     103\n",
       "Junk         12\n",
       "Positive     11\n",
       "Name: count, dtype: int64"
      ]
     },
     "execution_count": 41,
     "metadata": {},
     "output_type": "execute_result"
    }
   ],
   "source": [
    "df['emotion'].value_counts()"
   ]
  },
  {
   "cell_type": "code",
   "execution_count": 42,
   "id": "70b60da7-55bd-4a95-809e-bccbbb257ee6",
   "metadata": {},
   "outputs": [],
   "source": [
    "list = [i%2 for i in range(260)]\n",
    "df[\"Speaker\"] = pd.DataFrame(list)"
   ]
  },
  {
   "cell_type": "code",
   "execution_count": 43,
   "id": "21158cca-1a29-41b1-be5f-ef0516f676dd",
   "metadata": {},
   "outputs": [
    {
     "data": {
      "text/plain": [
       "0      0\n",
       "1      1\n",
       "2      0\n",
       "3      1\n",
       "4      0\n",
       "      ..\n",
       "255    1\n",
       "256    0\n",
       "257    1\n",
       "258    0\n",
       "259    1\n",
       "Name: Speaker, Length: 260, dtype: int64"
      ]
     },
     "execution_count": 43,
     "metadata": {},
     "output_type": "execute_result"
    }
   ],
   "source": [
    "df['Speaker']"
   ]
  },
  {
   "cell_type": "code",
   "execution_count": 44,
   "id": "67a783b9-8466-4e95-899a-2a4d7a2453be",
   "metadata": {},
   "outputs": [],
   "source": [
    "df_new = df.drop([i for i,x in enumerate(df['emotion']) if x == \"Junk\"])"
   ]
  },
  {
   "cell_type": "code",
   "execution_count": 45,
   "id": "911d0478-f367-4a57-a7af-4a02e568f41c",
   "metadata": {},
   "outputs": [],
   "source": [
    "df_new = df_new.reset_index()"
   ]
  },
  {
   "cell_type": "code",
   "execution_count": 46,
   "id": "dd5938b3-3eba-4bb8-bc25-c6bd66483188",
   "metadata": {},
   "outputs": [
    {
     "data": {
      "text/plain": [
       "(248, 13)"
      ]
     },
     "execution_count": 46,
     "metadata": {},
     "output_type": "execute_result"
    }
   ],
   "source": [
    "df_new.shape"
   ]
  },
  {
   "cell_type": "code",
   "execution_count": 47,
   "id": "8292cd34-52c2-43fb-bdf8-ea960e32e22b",
   "metadata": {},
   "outputs": [
    {
     "data": {
      "text/plain": [
       "0"
      ]
     },
     "execution_count": 47,
     "metadata": {},
     "output_type": "execute_result"
    }
   ],
   "source": [
    "df_new['emotion'].isnull().sum()"
   ]
  },
  {
   "cell_type": "code",
   "execution_count": 48,
   "id": "dd6d52e1-1c9e-4a1c-a18d-a0f9f3537048",
   "metadata": {},
   "outputs": [
    {
     "data": {
      "text/plain": [
       "fine-grained-emotion\n",
       "Junk                 132\n",
       "None of the above     74\n",
       "Curiosity             40\n",
       "Confusion              2\n",
       "Name: count, dtype: int64"
      ]
     },
     "execution_count": 48,
     "metadata": {},
     "output_type": "execute_result"
    }
   ],
   "source": [
    "df_new['fine-grained-emotion'].value_counts()"
   ]
  },
  {
   "cell_type": "code",
   "execution_count": 49,
   "id": "49ae565f-2056-4fbf-8a26-d428beacc8c5",
   "metadata": {},
   "outputs": [],
   "source": [
    "# df_new = df.drop(i for i,x in enumerate(df['fine-grained-emotion']) if x == \"Junk\" or x == \"None of the above\")"
   ]
  },
  {
   "cell_type": "code",
   "execution_count": 50,
   "id": "7dda4a1a-5093-40e4-8020-d53c240f8d43",
   "metadata": {},
   "outputs": [
    {
     "data": {
      "text/plain": [
       "(248, 13)"
      ]
     },
     "execution_count": 50,
     "metadata": {},
     "output_type": "execute_result"
    }
   ],
   "source": [
    "df_new.shape"
   ]
  },
  {
   "cell_type": "code",
   "execution_count": 51,
   "id": "2f5cf15d-18ab-4f35-9c95-ce83ef86c40e",
   "metadata": {},
   "outputs": [
    {
     "data": {
      "text/plain": [
       "Index(['index', 'domain', 'utterance_file', 'domain_batch', 'context_file',\n",
       "       'emotion', 'fine-grained-emotion', 'text_embedding', 'audio_embedding',\n",
       "       'machine_transcript', 'roman_transcript', 'native_transcript',\n",
       "       'Speaker'],\n",
       "      dtype='object')"
      ]
     },
     "execution_count": 51,
     "metadata": {},
     "output_type": "execute_result"
    }
   ],
   "source": [
    "df_new.columns"
   ]
  },
  {
   "cell_type": "code",
   "execution_count": 52,
   "id": "28028d13-ee12-4912-a74f-92c10e9d2a00",
   "metadata": {},
   "outputs": [
    {
     "data": {
      "text/plain": [
       "emotion\n",
       "Negative    134\n",
       "Neutral     103\n",
       "Positive     11\n",
       "Name: count, dtype: int64"
      ]
     },
     "execution_count": 52,
     "metadata": {},
     "output_type": "execute_result"
    }
   ],
   "source": [
    "df_new['emotion'].value_counts()"
   ]
  },
  {
   "cell_type": "code",
   "execution_count": 53,
   "id": "42b69ba8-eb3b-4d15-b572-12ed009bc88c",
   "metadata": {},
   "outputs": [],
   "source": [
    "df_final = df_new.drop([\"domain\", \"utterance_file\", \"domain_batch\", \"context_file\", \"fine-grained-emotion\", \"machine_transcript\", \"native_transcript\"], axis=1)"
   ]
  },
  {
   "cell_type": "code",
   "execution_count": 54,
   "id": "700e1993-ac87-4f67-9db5-48349d6db901",
   "metadata": {},
   "outputs": [
    {
     "data": {
      "text/html": [
       "<div>\n",
       "<style scoped>\n",
       "    .dataframe tbody tr th:only-of-type {\n",
       "        vertical-align: middle;\n",
       "    }\n",
       "\n",
       "    .dataframe tbody tr th {\n",
       "        vertical-align: top;\n",
       "    }\n",
       "\n",
       "    .dataframe thead th {\n",
       "        text-align: right;\n",
       "    }\n",
       "</style>\n",
       "<table border=\"1\" class=\"dataframe\">\n",
       "  <thead>\n",
       "    <tr style=\"text-align: right;\">\n",
       "      <th></th>\n",
       "      <th>index</th>\n",
       "      <th>emotion</th>\n",
       "      <th>text_embedding</th>\n",
       "      <th>audio_embedding</th>\n",
       "      <th>roman_transcript</th>\n",
       "      <th>Speaker</th>\n",
       "    </tr>\n",
       "  </thead>\n",
       "  <tbody>\n",
       "    <tr>\n",
       "      <th>0</th>\n",
       "      <td>1</td>\n",
       "      <td>Neutral</td>\n",
       "      <td>[[[-0.5146, 0.3608, -2.084, 1.298, 0.07574, -0...</td>\n",
       "      <td>[[[4.3364997, -0.15071316, 2.3584733, 1.979610...</td>\n",
       "      <td>hello hello good afternoon sir sube khan bat k...</td>\n",
       "      <td>1</td>\n",
       "    </tr>\n",
       "    <tr>\n",
       "      <th>1</th>\n",
       "      <td>2</td>\n",
       "      <td>Neutral</td>\n",
       "      <td>[[[-0.515, 0.3608, -2.084, 1.298, 0.07574, -0....</td>\n",
       "      <td>[[[2.291522, 1.0063372, 0.8391347, 1.0891207, ...</td>\n",
       "      <td>ha ha sir main stashfin se khushi bat kar rahi...</td>\n",
       "      <td>0</td>\n",
       "    </tr>\n",
       "    <tr>\n",
       "      <th>2</th>\n",
       "      <td>3</td>\n",
       "      <td>Negative</td>\n",
       "      <td>[[[-0.515, 0.3608, -2.084, 1.298, 0.07574, -0....</td>\n",
       "      <td>[[[0.7635638, 1.1420541, 0.801178, 0.21001612,...</td>\n",
       "      <td>payment nahi kar raha hu matalab matalab apane...</td>\n",
       "      <td>1</td>\n",
       "    </tr>\n",
       "    <tr>\n",
       "      <th>3</th>\n",
       "      <td>4</td>\n",
       "      <td>Negative</td>\n",
       "      <td>[[[-0.5146, 0.3608, -2.084, 1.298, 0.07574, -0...</td>\n",
       "      <td>[[[2.1685843, 0.4390855, 1.3647568, 1.7726477,...</td>\n",
       "      <td>mera kitane ka payment hua hai wait abhi batat...</td>\n",
       "      <td>0</td>\n",
       "    </tr>\n",
       "    <tr>\n",
       "      <th>4</th>\n",
       "      <td>5</td>\n",
       "      <td>Negative</td>\n",
       "      <td>[[[-0.5146, 0.3616, -2.084, 1.297, 0.07574, -0...</td>\n",
       "      <td>[[[2.026393, 0.19344328, 3.0774066, -1.533694,...</td>\n",
       "      <td>apaka seven thousand ka payment hua hai to fir...</td>\n",
       "      <td>1</td>\n",
       "    </tr>\n",
       "  </tbody>\n",
       "</table>\n",
       "</div>"
      ],
      "text/plain": [
       "   index   emotion                                     text_embedding  \\\n",
       "0      1   Neutral  [[[-0.5146, 0.3608, -2.084, 1.298, 0.07574, -0...   \n",
       "1      2   Neutral  [[[-0.515, 0.3608, -2.084, 1.298, 0.07574, -0....   \n",
       "2      3  Negative  [[[-0.515, 0.3608, -2.084, 1.298, 0.07574, -0....   \n",
       "3      4  Negative  [[[-0.5146, 0.3608, -2.084, 1.298, 0.07574, -0...   \n",
       "4      5  Negative  [[[-0.5146, 0.3616, -2.084, 1.297, 0.07574, -0...   \n",
       "\n",
       "                                     audio_embedding  \\\n",
       "0  [[[4.3364997, -0.15071316, 2.3584733, 1.979610...   \n",
       "1  [[[2.291522, 1.0063372, 0.8391347, 1.0891207, ...   \n",
       "2  [[[0.7635638, 1.1420541, 0.801178, 0.21001612,...   \n",
       "3  [[[2.1685843, 0.4390855, 1.3647568, 1.7726477,...   \n",
       "4  [[[2.026393, 0.19344328, 3.0774066, -1.533694,...   \n",
       "\n",
       "                                    roman_transcript  Speaker  \n",
       "0  hello hello good afternoon sir sube khan bat k...        1  \n",
       "1  ha ha sir main stashfin se khushi bat kar rahi...        0  \n",
       "2  payment nahi kar raha hu matalab matalab apane...        1  \n",
       "3  mera kitane ka payment hua hai wait abhi batat...        0  \n",
       "4  apaka seven thousand ka payment hua hai to fir...        1  "
      ]
     },
     "execution_count": 54,
     "metadata": {},
     "output_type": "execute_result"
    }
   ],
   "source": [
    "df_final.head(5)"
   ]
  },
  {
   "cell_type": "code",
   "execution_count": 55,
   "id": "eb555d51-ac3b-4335-8975-b1fe2b4455a6",
   "metadata": {},
   "outputs": [],
   "source": [
    "df_final[\"Label\"] = pd.DataFrame([i for i in range(len(df_final))])"
   ]
  },
  {
   "cell_type": "code",
   "execution_count": 56,
   "id": "1dc063f2-d6d4-41b9-87df-6d8295e8e661",
   "metadata": {},
   "outputs": [
    {
     "name": "stdout",
     "output_type": "stream",
     "text": [
      "Max length in 2nd dimension: 42\n",
      "Min length in 2nd dimension: 1\n"
     ]
    }
   ],
   "source": [
    "max_length = -float('inf')\n",
    "min_length = float('inf')\n",
    "\n",
    "# Iterate through each embedding in the 'text_embedding' column\n",
    "for embedding in df['text_embedding']:\n",
    "    for sublist in embedding:\n",
    "        current_length = len(sublist)\n",
    "        if current_length > max_length:\n",
    "            max_length = current_length\n",
    "        if current_length < min_length:\n",
    "            min_length = current_length\n",
    "\n",
    "# Display the max and min lengths\n",
    "print(\"Max length in 2nd dimension:\", max_length)\n",
    "print(\"Min length in 2nd dimension:\", min_length)"
   ]
  },
  {
   "cell_type": "code",
   "execution_count": 57,
   "id": "e773de33-5ebb-446c-8b03-aeac9c865091",
   "metadata": {},
   "outputs": [],
   "source": [
    "import numpy as np\n",
    "def compute_average(array):\n",
    "    return np.mean(array)\n",
    "\n",
    "# Apply the function to each element in the 'text_emb' column and store the result in a new column\n",
    "avg_text= df_final['text_embedding'].apply(compute_average)\n",
    "avg_audio=df_final['audio_embedding'].apply(compute_average)"
   ]
  },
  {
   "cell_type": "code",
   "execution_count": 58,
   "id": "29a407bc-5410-4561-91aa-6783baa8a407",
   "metadata": {},
   "outputs": [
    {
     "data": {
      "text/plain": [
       "0      0.631411\n",
       "1      0.651500\n",
       "2      0.674491\n",
       "3      0.612439\n",
       "4      0.667051\n",
       "         ...   \n",
       "243    0.586290\n",
       "244    0.631476\n",
       "245    0.605755\n",
       "246    0.616531\n",
       "247    0.579473\n",
       "Name: audio_embedding, Length: 248, dtype: float32"
      ]
     },
     "execution_count": 58,
     "metadata": {},
     "output_type": "execute_result"
    }
   ],
   "source": [
    "avg_audio"
   ]
  },
  {
   "cell_type": "code",
   "execution_count": 59,
   "id": "d0b98551-ebab-4b05-84fb-a3e4ca7edfd9",
   "metadata": {},
   "outputs": [
    {
     "name": "stdout",
     "output_type": "stream",
     "text": [
      "Defaulting to user installation because normal site-packages is not writeable\n",
      "Requirement already satisfied: torch in /home/ritesh/.local/lib/python3.10/site-packages (2.3.1)\n",
      "Requirement already satisfied: filelock in /home/ritesh/.local/lib/python3.10/site-packages (from torch) (3.15.1)\n",
      "Requirement already satisfied: nvidia-cuda-nvrtc-cu12==12.1.105 in /home/ritesh/.local/lib/python3.10/site-packages (from torch) (12.1.105)\n",
      "Requirement already satisfied: nvidia-cusparse-cu12==12.1.0.106 in /home/ritesh/.local/lib/python3.10/site-packages (from torch) (12.1.0.106)\n",
      "Requirement already satisfied: triton==2.3.1 in /home/ritesh/.local/lib/python3.10/site-packages (from torch) (2.3.1)\n",
      "Requirement already satisfied: nvidia-cuda-runtime-cu12==12.1.105 in /home/ritesh/.local/lib/python3.10/site-packages (from torch) (12.1.105)\n",
      "Requirement already satisfied: networkx in /home/ritesh/.local/lib/python3.10/site-packages (from torch) (3.3)\n",
      "Requirement already satisfied: nvidia-cublas-cu12==12.1.3.1 in /home/ritesh/.local/lib/python3.10/site-packages (from torch) (12.1.3.1)\n",
      "Requirement already satisfied: typing-extensions>=4.8.0 in /home/ritesh/.local/lib/python3.10/site-packages (from torch) (4.12.2)\n",
      "Requirement already satisfied: nvidia-curand-cu12==10.3.2.106 in /home/ritesh/.local/lib/python3.10/site-packages (from torch) (10.3.2.106)\n",
      "Requirement already satisfied: nvidia-nccl-cu12==2.20.5 in /home/ritesh/.local/lib/python3.10/site-packages (from torch) (2.20.5)\n",
      "Requirement already satisfied: nvidia-cuda-cupti-cu12==12.1.105 in /home/ritesh/.local/lib/python3.10/site-packages (from torch) (12.1.105)\n",
      "Requirement already satisfied: nvidia-cudnn-cu12==8.9.2.26 in /home/ritesh/.local/lib/python3.10/site-packages (from torch) (8.9.2.26)\n",
      "Requirement already satisfied: nvidia-cufft-cu12==11.0.2.54 in /home/ritesh/.local/lib/python3.10/site-packages (from torch) (11.0.2.54)\n",
      "Requirement already satisfied: nvidia-cusolver-cu12==11.4.5.107 in /home/ritesh/.local/lib/python3.10/site-packages (from torch) (11.4.5.107)\n",
      "Requirement already satisfied: jinja2 in /home/ritesh/.local/lib/python3.10/site-packages (from torch) (3.1.4)\n",
      "Requirement already satisfied: nvidia-nvtx-cu12==12.1.105 in /home/ritesh/.local/lib/python3.10/site-packages (from torch) (12.1.105)\n",
      "Requirement already satisfied: fsspec in /home/ritesh/.local/lib/python3.10/site-packages (from torch) (2024.6.0)\n",
      "Requirement already satisfied: sympy in /home/ritesh/.local/lib/python3.10/site-packages (from torch) (1.12.1)\n",
      "Requirement already satisfied: nvidia-nvjitlink-cu12 in /home/ritesh/.local/lib/python3.10/site-packages (from nvidia-cusolver-cu12==11.4.5.107->torch) (12.5.40)\n",
      "Requirement already satisfied: MarkupSafe>=2.0 in /usr/local/lib/python3.10/dist-packages (from jinja2->torch) (2.1.2)\n",
      "Requirement already satisfied: mpmath<1.4.0,>=1.1.0 in /home/ritesh/.local/lib/python3.10/site-packages (from sympy->torch) (1.3.0)\n",
      "Note: you may need to restart the kernel to use updated packages.\n"
     ]
    }
   ],
   "source": [
    "%pip install torch"
   ]
  },
  {
   "cell_type": "code",
   "execution_count": 60,
   "id": "dbb46fdb-92ef-41b9-81d7-8d82e069f29f",
   "metadata": {},
   "outputs": [],
   "source": [
    "#converting to a 100 dim vector\n",
    "import torch\n",
    "import torch.nn as nn\n",
    "\n",
    "transforming_layer =nn.Linear(1, 100)\n",
    "compressed_text = [transforming_layer(torch.FloatTensor([x])).detach().numpy() for x in avg_text]\n",
    "compressed_audio = [transforming_layer(torch.FloatTensor([x])).detach().numpy() for x in avg_text]"
   ]
  },
  {
   "cell_type": "code",
   "execution_count": 61,
   "id": "cfb726a7-485a-4bf9-bb26-0ac2a8771155",
   "metadata": {},
   "outputs": [
    {
     "data": {
      "text/plain": [
       "array([-0.9431794 , -0.97845626, -0.74128795,  0.74492544, -0.755263  ,\n",
       "        0.05561516, -0.8917958 ,  0.87965846, -0.6174083 ,  0.32230344,\n",
       "       -0.24459414, -0.31823906, -0.33457482,  0.32867694, -0.10445685,\n",
       "       -0.5057833 , -0.0588034 , -0.19312546,  0.6342764 , -0.32870844,\n",
       "        0.463033  ,  0.9046372 ,  0.894857  , -0.5630702 ,  0.57969725,\n",
       "       -0.4179213 , -0.42786652, -0.7100137 ,  0.07504687, -0.2674076 ,\n",
       "       -0.9116996 ,  0.20114543,  0.97124   , -0.01862704,  0.24647519,\n",
       "        0.7966276 , -0.82050043,  0.26501608, -0.97287166,  0.06941102,\n",
       "       -0.23764227,  0.51632196,  0.51280576, -0.65430886, -0.2962073 ,\n",
       "        0.37955928, -0.46737313,  0.24510194, -0.12558901, -0.33672956,\n",
       "        0.76508296,  0.08959527,  0.8742131 ,  0.29882574,  0.31683198,\n",
       "        0.73171836,  0.3136283 , -0.01090018, -0.30817205, -0.42844367,\n",
       "        0.2766638 ,  0.39414978, -0.93704784,  0.729875  , -0.88094383,\n",
       "       -0.44514808, -0.7433097 ,  0.6816421 ,  0.38294187,  0.61019564,\n",
       "       -0.4466032 , -0.605755  ,  0.6840199 , -0.22628708, -0.12693048,\n",
       "        0.78935367,  0.77366626,  0.8812197 , -0.9538807 , -0.5317781 ,\n",
       "       -0.64658296, -0.3650582 ,  0.5196518 ,  0.0474567 ,  0.43085524,\n",
       "        0.42983434,  0.5092546 ,  0.9935629 , -0.2987309 ,  0.02665832,\n",
       "        0.12834308, -0.7530227 , -0.18605632, -0.4115239 ,  0.70691776,\n",
       "        0.5104699 ,  0.822884  ,  0.54043585,  0.76151216, -0.8214654 ],\n",
       "      dtype=float32)"
      ]
     },
     "execution_count": 61,
     "metadata": {},
     "output_type": "execute_result"
    }
   ],
   "source": [
    "compressed_text[0]"
   ]
  },
  {
   "cell_type": "code",
   "execution_count": 62,
   "id": "0aac32f9-2202-4425-bfad-5c0c74ddacb0",
   "metadata": {},
   "outputs": [
    {
     "data": {
      "text/html": [
       "<div>\n",
       "<style scoped>\n",
       "    .dataframe tbody tr th:only-of-type {\n",
       "        vertical-align: middle;\n",
       "    }\n",
       "\n",
       "    .dataframe tbody tr th {\n",
       "        vertical-align: top;\n",
       "    }\n",
       "\n",
       "    .dataframe thead th {\n",
       "        text-align: right;\n",
       "    }\n",
       "</style>\n",
       "<table border=\"1\" class=\"dataframe\">\n",
       "  <thead>\n",
       "    <tr style=\"text-align: right;\">\n",
       "      <th></th>\n",
       "      <th>index</th>\n",
       "      <th>emotion</th>\n",
       "      <th>text_embedding</th>\n",
       "      <th>audio_embedding</th>\n",
       "      <th>roman_transcript</th>\n",
       "      <th>Speaker</th>\n",
       "      <th>Label</th>\n",
       "    </tr>\n",
       "  </thead>\n",
       "  <tbody>\n",
       "    <tr>\n",
       "      <th>0</th>\n",
       "      <td>1</td>\n",
       "      <td>Neutral</td>\n",
       "      <td>[[[-0.5146, 0.3608, -2.084, 1.298, 0.07574, -0...</td>\n",
       "      <td>[[[4.3364997, -0.15071316, 2.3584733, 1.979610...</td>\n",
       "      <td>hello hello good afternoon sir sube khan bat k...</td>\n",
       "      <td>1</td>\n",
       "      <td>0</td>\n",
       "    </tr>\n",
       "    <tr>\n",
       "      <th>1</th>\n",
       "      <td>2</td>\n",
       "      <td>Neutral</td>\n",
       "      <td>[[[-0.515, 0.3608, -2.084, 1.298, 0.07574, -0....</td>\n",
       "      <td>[[[2.291522, 1.0063372, 0.8391347, 1.0891207, ...</td>\n",
       "      <td>ha ha sir main stashfin se khushi bat kar rahi...</td>\n",
       "      <td>0</td>\n",
       "      <td>1</td>\n",
       "    </tr>\n",
       "    <tr>\n",
       "      <th>2</th>\n",
       "      <td>3</td>\n",
       "      <td>Negative</td>\n",
       "      <td>[[[-0.515, 0.3608, -2.084, 1.298, 0.07574, -0....</td>\n",
       "      <td>[[[0.7635638, 1.1420541, 0.801178, 0.21001612,...</td>\n",
       "      <td>payment nahi kar raha hu matalab matalab apane...</td>\n",
       "      <td>1</td>\n",
       "      <td>2</td>\n",
       "    </tr>\n",
       "    <tr>\n",
       "      <th>3</th>\n",
       "      <td>4</td>\n",
       "      <td>Negative</td>\n",
       "      <td>[[[-0.5146, 0.3608, -2.084, 1.298, 0.07574, -0...</td>\n",
       "      <td>[[[2.1685843, 0.4390855, 1.3647568, 1.7726477,...</td>\n",
       "      <td>mera kitane ka payment hua hai wait abhi batat...</td>\n",
       "      <td>0</td>\n",
       "      <td>3</td>\n",
       "    </tr>\n",
       "    <tr>\n",
       "      <th>4</th>\n",
       "      <td>5</td>\n",
       "      <td>Negative</td>\n",
       "      <td>[[[-0.5146, 0.3616, -2.084, 1.297, 0.07574, -0...</td>\n",
       "      <td>[[[2.026393, 0.19344328, 3.0774066, -1.533694,...</td>\n",
       "      <td>apaka seven thousand ka payment hua hai to fir...</td>\n",
       "      <td>1</td>\n",
       "      <td>4</td>\n",
       "    </tr>\n",
       "  </tbody>\n",
       "</table>\n",
       "</div>"
      ],
      "text/plain": [
       "   index   emotion                                     text_embedding  \\\n",
       "0      1   Neutral  [[[-0.5146, 0.3608, -2.084, 1.298, 0.07574, -0...   \n",
       "1      2   Neutral  [[[-0.515, 0.3608, -2.084, 1.298, 0.07574, -0....   \n",
       "2      3  Negative  [[[-0.515, 0.3608, -2.084, 1.298, 0.07574, -0....   \n",
       "3      4  Negative  [[[-0.5146, 0.3608, -2.084, 1.298, 0.07574, -0...   \n",
       "4      5  Negative  [[[-0.5146, 0.3616, -2.084, 1.297, 0.07574, -0...   \n",
       "\n",
       "                                     audio_embedding  \\\n",
       "0  [[[4.3364997, -0.15071316, 2.3584733, 1.979610...   \n",
       "1  [[[2.291522, 1.0063372, 0.8391347, 1.0891207, ...   \n",
       "2  [[[0.7635638, 1.1420541, 0.801178, 0.21001612,...   \n",
       "3  [[[2.1685843, 0.4390855, 1.3647568, 1.7726477,...   \n",
       "4  [[[2.026393, 0.19344328, 3.0774066, -1.533694,...   \n",
       "\n",
       "                                    roman_transcript  Speaker  Label  \n",
       "0  hello hello good afternoon sir sube khan bat k...        1      0  \n",
       "1  ha ha sir main stashfin se khushi bat kar rahi...        0      1  \n",
       "2  payment nahi kar raha hu matalab matalab apane...        1      2  \n",
       "3  mera kitane ka payment hua hai wait abhi batat...        0      3  \n",
       "4  apaka seven thousand ka payment hua hai to fir...        1      4  "
      ]
     },
     "execution_count": 62,
     "metadata": {},
     "output_type": "execute_result"
    }
   ],
   "source": [
    "df_final.head(5)"
   ]
  },
  {
   "cell_type": "code",
   "execution_count": 63,
   "id": "73d82251-ed05-4c2f-836d-44fa89e51fe7",
   "metadata": {},
   "outputs": [],
   "source": [
    "df_final = df_final.drop('index', axis=1)"
   ]
  },
  {
   "cell_type": "code",
   "execution_count": 64,
   "id": "28471e11-693a-469f-9ed3-6e03d8f0e9c9",
   "metadata": {},
   "outputs": [
    {
     "data": {
      "text/html": [
       "<div>\n",
       "<style scoped>\n",
       "    .dataframe tbody tr th:only-of-type {\n",
       "        vertical-align: middle;\n",
       "    }\n",
       "\n",
       "    .dataframe tbody tr th {\n",
       "        vertical-align: top;\n",
       "    }\n",
       "\n",
       "    .dataframe thead th {\n",
       "        text-align: right;\n",
       "    }\n",
       "</style>\n",
       "<table border=\"1\" class=\"dataframe\">\n",
       "  <thead>\n",
       "    <tr style=\"text-align: right;\">\n",
       "      <th></th>\n",
       "      <th>emotion</th>\n",
       "      <th>text_embedding</th>\n",
       "      <th>audio_embedding</th>\n",
       "      <th>roman_transcript</th>\n",
       "      <th>Speaker</th>\n",
       "      <th>Label</th>\n",
       "    </tr>\n",
       "  </thead>\n",
       "  <tbody>\n",
       "    <tr>\n",
       "      <th>0</th>\n",
       "      <td>Neutral</td>\n",
       "      <td>[[[-0.5146, 0.3608, -2.084, 1.298, 0.07574, -0...</td>\n",
       "      <td>[[[4.3364997, -0.15071316, 2.3584733, 1.979610...</td>\n",
       "      <td>hello hello good afternoon sir sube khan bat k...</td>\n",
       "      <td>1</td>\n",
       "      <td>0</td>\n",
       "    </tr>\n",
       "    <tr>\n",
       "      <th>1</th>\n",
       "      <td>Neutral</td>\n",
       "      <td>[[[-0.515, 0.3608, -2.084, 1.298, 0.07574, -0....</td>\n",
       "      <td>[[[2.291522, 1.0063372, 0.8391347, 1.0891207, ...</td>\n",
       "      <td>ha ha sir main stashfin se khushi bat kar rahi...</td>\n",
       "      <td>0</td>\n",
       "      <td>1</td>\n",
       "    </tr>\n",
       "    <tr>\n",
       "      <th>2</th>\n",
       "      <td>Negative</td>\n",
       "      <td>[[[-0.515, 0.3608, -2.084, 1.298, 0.07574, -0....</td>\n",
       "      <td>[[[0.7635638, 1.1420541, 0.801178, 0.21001612,...</td>\n",
       "      <td>payment nahi kar raha hu matalab matalab apane...</td>\n",
       "      <td>1</td>\n",
       "      <td>2</td>\n",
       "    </tr>\n",
       "    <tr>\n",
       "      <th>3</th>\n",
       "      <td>Negative</td>\n",
       "      <td>[[[-0.5146, 0.3608, -2.084, 1.298, 0.07574, -0...</td>\n",
       "      <td>[[[2.1685843, 0.4390855, 1.3647568, 1.7726477,...</td>\n",
       "      <td>mera kitane ka payment hua hai wait abhi batat...</td>\n",
       "      <td>0</td>\n",
       "      <td>3</td>\n",
       "    </tr>\n",
       "    <tr>\n",
       "      <th>4</th>\n",
       "      <td>Negative</td>\n",
       "      <td>[[[-0.5146, 0.3616, -2.084, 1.297, 0.07574, -0...</td>\n",
       "      <td>[[[2.026393, 0.19344328, 3.0774066, -1.533694,...</td>\n",
       "      <td>apaka seven thousand ka payment hua hai to fir...</td>\n",
       "      <td>1</td>\n",
       "      <td>4</td>\n",
       "    </tr>\n",
       "  </tbody>\n",
       "</table>\n",
       "</div>"
      ],
      "text/plain": [
       "    emotion                                     text_embedding  \\\n",
       "0   Neutral  [[[-0.5146, 0.3608, -2.084, 1.298, 0.07574, -0...   \n",
       "1   Neutral  [[[-0.515, 0.3608, -2.084, 1.298, 0.07574, -0....   \n",
       "2  Negative  [[[-0.515, 0.3608, -2.084, 1.298, 0.07574, -0....   \n",
       "3  Negative  [[[-0.5146, 0.3608, -2.084, 1.298, 0.07574, -0...   \n",
       "4  Negative  [[[-0.5146, 0.3616, -2.084, 1.297, 0.07574, -0...   \n",
       "\n",
       "                                     audio_embedding  \\\n",
       "0  [[[4.3364997, -0.15071316, 2.3584733, 1.979610...   \n",
       "1  [[[2.291522, 1.0063372, 0.8391347, 1.0891207, ...   \n",
       "2  [[[0.7635638, 1.1420541, 0.801178, 0.21001612,...   \n",
       "3  [[[2.1685843, 0.4390855, 1.3647568, 1.7726477,...   \n",
       "4  [[[2.026393, 0.19344328, 3.0774066, -1.533694,...   \n",
       "\n",
       "                                    roman_transcript  Speaker  Label  \n",
       "0  hello hello good afternoon sir sube khan bat k...        1      0  \n",
       "1  ha ha sir main stashfin se khushi bat kar rahi...        0      1  \n",
       "2  payment nahi kar raha hu matalab matalab apane...        1      2  \n",
       "3  mera kitane ka payment hua hai wait abhi batat...        0      3  \n",
       "4  apaka seven thousand ka payment hua hai to fir...        1      4  "
      ]
     },
     "execution_count": 64,
     "metadata": {},
     "output_type": "execute_result"
    }
   ],
   "source": [
    "df_final.head(5)"
   ]
  },
  {
   "cell_type": "code",
   "execution_count": 65,
   "id": "6a95109b-5300-4179-bf1a-052023d0660c",
   "metadata": {},
   "outputs": [],
   "source": [
    "df_final = df_final.drop(['text_embedding', 'audio_embedding'], axis=1)"
   ]
  },
  {
   "cell_type": "code",
   "execution_count": 66,
   "id": "c4d94b8e-6b62-46d5-8373-970fbd15952f",
   "metadata": {},
   "outputs": [],
   "source": [
    "df_final['text_embedding']=compressed_text\n",
    "df_final['audio_embedding']=compressed_audio"
   ]
  },
  {
   "cell_type": "code",
   "execution_count": 67,
   "id": "789da189-5d87-460d-9e22-86661b9e4d55",
   "metadata": {},
   "outputs": [
    {
     "data": {
      "text/html": [
       "<div>\n",
       "<style scoped>\n",
       "    .dataframe tbody tr th:only-of-type {\n",
       "        vertical-align: middle;\n",
       "    }\n",
       "\n",
       "    .dataframe tbody tr th {\n",
       "        vertical-align: top;\n",
       "    }\n",
       "\n",
       "    .dataframe thead th {\n",
       "        text-align: right;\n",
       "    }\n",
       "</style>\n",
       "<table border=\"1\" class=\"dataframe\">\n",
       "  <thead>\n",
       "    <tr style=\"text-align: right;\">\n",
       "      <th></th>\n",
       "      <th>emotion</th>\n",
       "      <th>roman_transcript</th>\n",
       "      <th>Speaker</th>\n",
       "      <th>Label</th>\n",
       "      <th>text_embedding</th>\n",
       "      <th>audio_embedding</th>\n",
       "    </tr>\n",
       "  </thead>\n",
       "  <tbody>\n",
       "    <tr>\n",
       "      <th>0</th>\n",
       "      <td>Neutral</td>\n",
       "      <td>hello hello good afternoon sir sube khan bat k...</td>\n",
       "      <td>1</td>\n",
       "      <td>0</td>\n",
       "      <td>[-0.9431794, -0.97845626, -0.74128795, 0.74492...</td>\n",
       "      <td>[-0.9431794, -0.97845626, -0.74128795, 0.74492...</td>\n",
       "    </tr>\n",
       "    <tr>\n",
       "      <th>1</th>\n",
       "      <td>Neutral</td>\n",
       "      <td>ha ha sir main stashfin se khushi bat kar rahi...</td>\n",
       "      <td>0</td>\n",
       "      <td>1</td>\n",
       "      <td>[-0.94331944, -0.97864723, -0.74149364, 0.7446...</td>\n",
       "      <td>[-0.94331944, -0.97864723, -0.74149364, 0.7446...</td>\n",
       "    </tr>\n",
       "    <tr>\n",
       "      <th>2</th>\n",
       "      <td>Negative</td>\n",
       "      <td>payment nahi kar raha hu matalab matalab apane...</td>\n",
       "      <td>1</td>\n",
       "      <td>2</td>\n",
       "      <td>[-0.9412185, -0.97578174, -0.7384069, 0.748762...</td>\n",
       "      <td>[-0.9412185, -0.97578174, -0.7384069, 0.748762...</td>\n",
       "    </tr>\n",
       "    <tr>\n",
       "      <th>3</th>\n",
       "      <td>Negative</td>\n",
       "      <td>mera kitane ka payment hua hai wait abhi batat...</td>\n",
       "      <td>0</td>\n",
       "      <td>3</td>\n",
       "      <td>[-0.9403989, -0.9746639, -0.73720264, 0.750366...</td>\n",
       "      <td>[-0.9403989, -0.9746639, -0.73720264, 0.750366...</td>\n",
       "    </tr>\n",
       "    <tr>\n",
       "      <th>4</th>\n",
       "      <td>Negative</td>\n",
       "      <td>apaka seven thousand ka payment hua hai to fir...</td>\n",
       "      <td>1</td>\n",
       "      <td>4</td>\n",
       "      <td>[-0.9387058, -0.9723548, -0.7347152, 0.7536785...</td>\n",
       "      <td>[-0.9387058, -0.9723548, -0.7347152, 0.7536785...</td>\n",
       "    </tr>\n",
       "  </tbody>\n",
       "</table>\n",
       "</div>"
      ],
      "text/plain": [
       "    emotion                                   roman_transcript  Speaker  \\\n",
       "0   Neutral  hello hello good afternoon sir sube khan bat k...        1   \n",
       "1   Neutral  ha ha sir main stashfin se khushi bat kar rahi...        0   \n",
       "2  Negative  payment nahi kar raha hu matalab matalab apane...        1   \n",
       "3  Negative  mera kitane ka payment hua hai wait abhi batat...        0   \n",
       "4  Negative  apaka seven thousand ka payment hua hai to fir...        1   \n",
       "\n",
       "   Label                                     text_embedding  \\\n",
       "0      0  [-0.9431794, -0.97845626, -0.74128795, 0.74492...   \n",
       "1      1  [-0.94331944, -0.97864723, -0.74149364, 0.7446...   \n",
       "2      2  [-0.9412185, -0.97578174, -0.7384069, 0.748762...   \n",
       "3      3  [-0.9403989, -0.9746639, -0.73720264, 0.750366...   \n",
       "4      4  [-0.9387058, -0.9723548, -0.7347152, 0.7536785...   \n",
       "\n",
       "                                     audio_embedding  \n",
       "0  [-0.9431794, -0.97845626, -0.74128795, 0.74492...  \n",
       "1  [-0.94331944, -0.97864723, -0.74149364, 0.7446...  \n",
       "2  [-0.9412185, -0.97578174, -0.7384069, 0.748762...  \n",
       "3  [-0.9403989, -0.9746639, -0.73720264, 0.750366...  \n",
       "4  [-0.9387058, -0.9723548, -0.7347152, 0.7536785...  "
      ]
     },
     "execution_count": 67,
     "metadata": {},
     "output_type": "execute_result"
    }
   ],
   "source": [
    "df_final.head(5)"
   ]
  },
  {
   "cell_type": "code",
   "execution_count": 68,
   "id": "e090c210-c83a-46c2-bcc2-293be35dc47f",
   "metadata": {},
   "outputs": [],
   "source": [
    "for i,val in enumerate(df_final['emotion']):\n",
    "    if val=='Neutral':\n",
    "        df_final.loc[i,'emotion'] = '0'\n",
    "    elif val=='Positive':\n",
    "        df_final.loc[i,'emotion'] = '1'\n",
    "    else:\n",
    "        df_final.loc[i,'emotion'] = '2'"
   ]
  },
  {
   "cell_type": "code",
   "execution_count": 69,
   "id": "477301da-f4d1-48ee-b56b-97a239e945bd",
   "metadata": {},
   "outputs": [
    {
     "data": {
      "text/html": [
       "<div>\n",
       "<style scoped>\n",
       "    .dataframe tbody tr th:only-of-type {\n",
       "        vertical-align: middle;\n",
       "    }\n",
       "\n",
       "    .dataframe tbody tr th {\n",
       "        vertical-align: top;\n",
       "    }\n",
       "\n",
       "    .dataframe thead th {\n",
       "        text-align: right;\n",
       "    }\n",
       "</style>\n",
       "<table border=\"1\" class=\"dataframe\">\n",
       "  <thead>\n",
       "    <tr style=\"text-align: right;\">\n",
       "      <th></th>\n",
       "      <th>emotion</th>\n",
       "      <th>roman_transcript</th>\n",
       "      <th>Speaker</th>\n",
       "      <th>Label</th>\n",
       "      <th>text_embedding</th>\n",
       "      <th>audio_embedding</th>\n",
       "    </tr>\n",
       "  </thead>\n",
       "  <tbody>\n",
       "    <tr>\n",
       "      <th>0</th>\n",
       "      <td>0</td>\n",
       "      <td>hello hello good afternoon sir sube khan bat k...</td>\n",
       "      <td>1</td>\n",
       "      <td>0</td>\n",
       "      <td>[-0.9431794, -0.97845626, -0.74128795, 0.74492...</td>\n",
       "      <td>[-0.9431794, -0.97845626, -0.74128795, 0.74492...</td>\n",
       "    </tr>\n",
       "    <tr>\n",
       "      <th>1</th>\n",
       "      <td>0</td>\n",
       "      <td>ha ha sir main stashfin se khushi bat kar rahi...</td>\n",
       "      <td>0</td>\n",
       "      <td>1</td>\n",
       "      <td>[-0.94331944, -0.97864723, -0.74149364, 0.7446...</td>\n",
       "      <td>[-0.94331944, -0.97864723, -0.74149364, 0.7446...</td>\n",
       "    </tr>\n",
       "    <tr>\n",
       "      <th>2</th>\n",
       "      <td>2</td>\n",
       "      <td>payment nahi kar raha hu matalab matalab apane...</td>\n",
       "      <td>1</td>\n",
       "      <td>2</td>\n",
       "      <td>[-0.9412185, -0.97578174, -0.7384069, 0.748762...</td>\n",
       "      <td>[-0.9412185, -0.97578174, -0.7384069, 0.748762...</td>\n",
       "    </tr>\n",
       "    <tr>\n",
       "      <th>3</th>\n",
       "      <td>2</td>\n",
       "      <td>mera kitane ka payment hua hai wait abhi batat...</td>\n",
       "      <td>0</td>\n",
       "      <td>3</td>\n",
       "      <td>[-0.9403989, -0.9746639, -0.73720264, 0.750366...</td>\n",
       "      <td>[-0.9403989, -0.9746639, -0.73720264, 0.750366...</td>\n",
       "    </tr>\n",
       "    <tr>\n",
       "      <th>4</th>\n",
       "      <td>2</td>\n",
       "      <td>apaka seven thousand ka payment hua hai to fir...</td>\n",
       "      <td>1</td>\n",
       "      <td>4</td>\n",
       "      <td>[-0.9387058, -0.9723548, -0.7347152, 0.7536785...</td>\n",
       "      <td>[-0.9387058, -0.9723548, -0.7347152, 0.7536785...</td>\n",
       "    </tr>\n",
       "    <tr>\n",
       "      <th>5</th>\n",
       "      <td>2</td>\n",
       "      <td>sat hajar ka ye apaka case legal hai thats why...</td>\n",
       "      <td>0</td>\n",
       "      <td>5</td>\n",
       "      <td>[-0.9353056, -0.9677173, -0.7297196, 0.7603314...</td>\n",
       "      <td>[-0.9353056, -0.9677173, -0.7297196, 0.7603314...</td>\n",
       "    </tr>\n",
       "    <tr>\n",
       "      <th>6</th>\n",
       "      <td>0</td>\n",
       "      <td>to ye reference call kaun kar raha hai ye sirf...</td>\n",
       "      <td>1</td>\n",
       "      <td>6</td>\n",
       "      <td>[-0.9337055, -0.965535, -0.7273687, 0.76346225...</td>\n",
       "      <td>[-0.9337055, -0.965535, -0.7273687, 0.76346225...</td>\n",
       "    </tr>\n",
       "    <tr>\n",
       "      <th>7</th>\n",
       "      <td>0</td>\n",
       "      <td>company unhe call karati hamari taraf se nahin...</td>\n",
       "      <td>0</td>\n",
       "      <td>7</td>\n",
       "      <td>[-0.93771243, -0.97099996, -0.73325574, 0.7556...</td>\n",
       "      <td>[-0.93771243, -0.97099996, -0.73325574, 0.7556...</td>\n",
       "    </tr>\n",
       "    <tr>\n",
       "      <th>8</th>\n",
       "      <td>2</td>\n",
       "      <td>ki mujhe ye samajh men nahin aa raha hai ki ag...</td>\n",
       "      <td>1</td>\n",
       "      <td>8</td>\n",
       "      <td>[-0.94430286, -0.97998846, -0.74293846, 0.7427...</td>\n",
       "      <td>[-0.94430286, -0.97998846, -0.74293846, 0.7427...</td>\n",
       "    </tr>\n",
       "    <tr>\n",
       "      <th>9</th>\n",
       "      <td>2</td>\n",
       "      <td>do hajar kya ligal team men khali hai kya no n...</td>\n",
       "      <td>0</td>\n",
       "      <td>9</td>\n",
       "      <td>[-0.93514895, -0.9675036, -0.7294894, 0.760638...</td>\n",
       "      <td>[-0.93514895, -0.9675036, -0.7294894, 0.760638...</td>\n",
       "    </tr>\n",
       "  </tbody>\n",
       "</table>\n",
       "</div>"
      ],
      "text/plain": [
       "  emotion                                   roman_transcript  Speaker  Label  \\\n",
       "0       0  hello hello good afternoon sir sube khan bat k...        1      0   \n",
       "1       0  ha ha sir main stashfin se khushi bat kar rahi...        0      1   \n",
       "2       2  payment nahi kar raha hu matalab matalab apane...        1      2   \n",
       "3       2  mera kitane ka payment hua hai wait abhi batat...        0      3   \n",
       "4       2  apaka seven thousand ka payment hua hai to fir...        1      4   \n",
       "5       2  sat hajar ka ye apaka case legal hai thats why...        0      5   \n",
       "6       0  to ye reference call kaun kar raha hai ye sirf...        1      6   \n",
       "7       0  company unhe call karati hamari taraf se nahin...        0      7   \n",
       "8       2  ki mujhe ye samajh men nahin aa raha hai ki ag...        1      8   \n",
       "9       2  do hajar kya ligal team men khali hai kya no n...        0      9   \n",
       "\n",
       "                                      text_embedding  \\\n",
       "0  [-0.9431794, -0.97845626, -0.74128795, 0.74492...   \n",
       "1  [-0.94331944, -0.97864723, -0.74149364, 0.7446...   \n",
       "2  [-0.9412185, -0.97578174, -0.7384069, 0.748762...   \n",
       "3  [-0.9403989, -0.9746639, -0.73720264, 0.750366...   \n",
       "4  [-0.9387058, -0.9723548, -0.7347152, 0.7536785...   \n",
       "5  [-0.9353056, -0.9677173, -0.7297196, 0.7603314...   \n",
       "6  [-0.9337055, -0.965535, -0.7273687, 0.76346225...   \n",
       "7  [-0.93771243, -0.97099996, -0.73325574, 0.7556...   \n",
       "8  [-0.94430286, -0.97998846, -0.74293846, 0.7427...   \n",
       "9  [-0.93514895, -0.9675036, -0.7294894, 0.760638...   \n",
       "\n",
       "                                     audio_embedding  \n",
       "0  [-0.9431794, -0.97845626, -0.74128795, 0.74492...  \n",
       "1  [-0.94331944, -0.97864723, -0.74149364, 0.7446...  \n",
       "2  [-0.9412185, -0.97578174, -0.7384069, 0.748762...  \n",
       "3  [-0.9403989, -0.9746639, -0.73720264, 0.750366...  \n",
       "4  [-0.9387058, -0.9723548, -0.7347152, 0.7536785...  \n",
       "5  [-0.9353056, -0.9677173, -0.7297196, 0.7603314...  \n",
       "6  [-0.9337055, -0.965535, -0.7273687, 0.76346225...  \n",
       "7  [-0.93771243, -0.97099996, -0.73325574, 0.7556...  \n",
       "8  [-0.94430286, -0.97998846, -0.74293846, 0.7427...  \n",
       "9  [-0.93514895, -0.9675036, -0.7294894, 0.760638...  "
      ]
     },
     "execution_count": 69,
     "metadata": {},
     "output_type": "execute_result"
    }
   ],
   "source": [
    "df_final.head(10)"
   ]
  },
  {
   "cell_type": "code",
   "execution_count": 70,
   "id": "7d583003-14e0-4b19-bdfe-5b197d499655",
   "metadata": {},
   "outputs": [],
   "source": [
    "df_final.to_pickle('../stashfin_processed_new1.pkl') "
   ]
  },
  {
   "cell_type": "code",
   "execution_count": null,
   "id": "b62e0fd8-d189-4128-bef9-ceb652e6af20",
   "metadata": {},
   "outputs": [],
   "source": []
  }
 ],
 "metadata": {
  "kernelspec": {
   "display_name": "Python 3 (ipykernel)",
   "language": "python",
   "name": "python3"
  },
  "language_info": {
   "codemirror_mode": {
    "name": "ipython",
    "version": 3
   },
   "file_extension": ".py",
   "mimetype": "text/x-python",
   "name": "python",
   "nbconvert_exporter": "python",
   "pygments_lexer": "ipython3",
   "version": "3.10.12"
  }
 },
 "nbformat": 4,
 "nbformat_minor": 5
}
